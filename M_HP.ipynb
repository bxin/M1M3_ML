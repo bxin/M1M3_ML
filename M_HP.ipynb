{
 "cells": [
  {
   "cell_type": "markdown",
   "metadata": {},
   "source": [
    "## Demonstrate the calculation of hard point matrix\n",
    "\n",
    "this goes from load cell forces to [Fx, Fy, Fz, Mx, My, Mz],\n",
    " or from mirror position [x,y,z,rx,ry,rz] to hard point length\n",
    "\n",
    "### Input data are from slides emailed by Felipe on 4/9/2019\n",
    "### Bo independently derived the analytical form of the matrix, which agrees with that from Felipe"
   ]
  },
  {
   "cell_type": "code",
   "execution_count": 1,
   "metadata": {},
   "outputs": [
    {
     "data": {
      "text/plain": [
       "<Figure size 432x288 with 0 Axes>"
      ]
     },
     "metadata": {},
     "output_type": "display_data"
    }
   ],
   "source": [
    "import matplotlib.pyplot as plt\n",
    "import numpy as np\n",
    "plt.jet()"
   ]
  },
  {
   "cell_type": "code",
   "execution_count": 2,
   "metadata": {},
   "outputs": [],
   "source": [
    "# input data\n",
    "alpha = 40.550036 #deg\n",
    "# for below, look at Felipe slide 6\n",
    "# 1 and 2 point away from each other, so do 3 and 4, 5 and 6.\n",
    "a1 = np.arctan(0.991276/3.724100)\n",
    "a2 = np.arctan(1.003579/3.720803)\n",
    "a3 = np.arctan(2.729527/2.720520)\n",
    "\n",
    "beta = np.zeros(6)\n",
    "beta[0] = a1 #angle between hard point *1* (vector) and +x axis\n",
    "beta[1] = np.pi*1.5+ a2\n",
    "beta[2] = np.pi - a3\n",
    "beta[3] = a3\n",
    "beta[4] = np.pi*1.5 - a2\n",
    "beta[5] = np.pi - a1\n",
    "\n",
    "alpha = alpha/180*np.pi"
   ]
  },
  {
   "cell_type": "code",
   "execution_count": 3,
   "metadata": {},
   "outputs": [
    {
     "name": "stdout",
     "output_type": "stream",
     "text": [
      "beta[0] =  14.905 degrees\n",
      "beta[1] = 285.095 degrees\n",
      "beta[2] = 134.905 degrees\n",
      "beta[3] =  45.095 degrees\n",
      "beta[4] = 254.905 degrees\n",
      "beta[5] = 165.095 degrees\n"
     ]
    }
   ],
   "source": [
    "# check again Felipe's numbers\n",
    "for i in range(6):\n",
    "    print('beta[%d] = %7.3f degrees'%(i, beta[i]/np.pi*180))"
   ]
  },
  {
   "cell_type": "code",
   "execution_count": 4,
   "metadata": {},
   "outputs": [],
   "source": [
    "dx = [-1.413072, -3.115501, -1.810974, 1.810974, 3.115501, 1.413072]\n",
    "dy = [2.826964, -0.531179, -2.590149, -2.590149, -0.531179, 2.826964]"
   ]
  },
  {
   "cell_type": "code",
   "execution_count": 5,
   "metadata": {},
   "outputs": [],
   "source": [
    "def calcMHP(alpha, beta, dx, dy, dz):\n",
    "    '''\n",
    "    inputs:\n",
    "        alpha = inclination angle (angle between hard points and xy plane)\n",
    "        beta[0:5] = when projected to xy plane, angle between hard points and +x axis\n",
    "        dx[0:5], dy[0:5], dz[0:5] are the coordinates of the points of contact with back plate of the mirror.\n",
    "    output:\n",
    "        m = transformation matrix\n",
    "        [Fx, Fy, Fz, Mx, My, Mz] = m * [l1, l2, l3, l4, l5, l6]\n",
    "        l1:6 is are hard point load cell readings.\n",
    "        or\n",
    "        [d1,d2,d3,d4,d5,d6] = m * [x,y,z,rx,ry,rz]\n",
    "        d1:6 is are hard point displacements (length change)\n",
    "    '''\n",
    "    m = np.zeros((6,6))\n",
    "    for i in range(6):\n",
    "        m[0,i] = np.cos(alpha)*np.cos(beta[i])\n",
    "        m[1,i] = np.cos(alpha)*np.sin(beta[i])\n",
    "        m[2,i] = np.sin(alpha)\n",
    "        m[3,i] = np.sin(alpha)*dy[i] - np.cos(alpha)*np.sin(beta[i])*dz[i]\n",
    "        m[4,i] = np.cos(alpha)*np.cos(beta[i])*dz[i] - np.sin(alpha)*dx[i]\n",
    "        m[5,i] = np.cos(alpha)*np.sin(beta[i])*dx[i] - np.cos(alpha)*np.cos(beta[i])*dy[i]\n",
    "    return m"
   ]
  },
  {
   "cell_type": "code",
   "execution_count": 13,
   "metadata": {},
   "outputs": [
    {
     "name": "stdout",
     "output_type": "stream",
     "text": [
      " columns: l1 l2 l3 l4 l5 l6\n",
      " or   x,y,z,rx,ry,rz\n",
      "[[ 0.73427166  0.19787323 -0.53639829  0.53639829 -0.19787323 -0.73427166]\n",
      " [ 0.19544746 -0.73362167  0.53817418  0.53817418 -0.73362167  0.19544746]\n",
      " [ 0.65011186  0.65011186  0.65011186  0.65011186  0.65011186  0.65011186]\n",
      " [ 1.83784282 -0.34532577 -1.68388658 -1.68388658 -0.34532577  1.83784282]\n",
      " [ 0.91865486  2.02542414  1.17733567 -1.17733567 -2.02542414 -0.91865486]\n",
      " [-2.35194086  2.39070516 -2.36397094  2.36397094 -2.39070516  2.35194086]]\n",
      " columns: Fx, Fy, Fz, Mx, My, Mz\n",
      " or d1,d2,d3,d4,d5,d6\n",
      "[[ 0.40294457  0.16648103  0.27188671  0.15817726  0.04317411 -0.06992825]\n",
      " [ 0.03165966 -0.43800858  0.25218361 -0.042626    0.15886127  0.07193441]\n",
      " [-0.36887631  0.27152756  0.2450281  -0.11555125  0.11770343 -0.06918822]\n",
      " [ 0.36887631  0.27152756  0.2450281  -0.11555125 -0.11770343  0.06918822]\n",
      " [-0.03165966 -0.43800858  0.25218361 -0.042626   -0.15886127 -0.07193441]\n",
      " [-0.40294457  0.16648103  0.27188671  0.15817726 -0.04317411  0.06992825]]\n"
     ]
    }
   ],
   "source": [
    "# if the momments are centered on actuator plane\n",
    "dz = np.ones(6)*0\n",
    "m0 = calcMHP(alpha, beta, dx, dy, dz)\n",
    "print(' columns: l1 l2 l3 l4 l5 l6\\n or   x,y,z,rx,ry,rz')\n",
    "print(m0)\n",
    "print(' columns: Fx, Fy, Fz, Mx, My, Mz\\n or d1,d2,d3,d4,d5,d6')\n",
    "print(np.linalg.pinv(m0))"
   ]
  },
  {
   "cell_type": "code",
   "execution_count": 12,
   "metadata": {},
   "outputs": [
    {
     "name": "stdout",
     "output_type": "stream",
     "text": [
      "[[ 0.73427166  0.19787323 -0.53639829  0.53639829 -0.19787323 -0.73427166]\n",
      " [ 0.19544746 -0.73362167  0.53817418  0.53817418 -0.73362167  0.19544746]\n",
      " [ 0.65011186  0.65011186  0.65011186  0.65011186  0.65011186  0.65011186]\n",
      " [ 1.91466039 -0.63366432 -1.47236561 -1.47236561 -0.63366432  1.91466039]\n",
      " [ 0.63006084  1.94765316  1.38815865 -1.38815865 -1.94765316 -0.63006084]\n",
      " [-2.35194086  2.39070516 -2.36397094  2.36397094 -2.39070516  2.35194086]]\n",
      "[[ 0.41991348  0.10431192  0.27188671  0.15817726  0.04317411 -0.06992825]\n",
      " [ 0.09409761 -0.4212551   0.25218361 -0.042626    0.15886127  0.07193441]\n",
      " [-0.32261481  0.31694317  0.2450281  -0.11555125  0.11770343 -0.06918822]\n",
      " [ 0.32261481  0.31694317  0.2450281  -0.11555125 -0.11770343  0.06918822]\n",
      " [-0.09409761 -0.4212551   0.25218361 -0.042626   -0.15886127 -0.07193441]\n",
      " [-0.41991348  0.10431192  0.27188671  0.15817726 -0.04317411  0.06992825]]\n"
     ]
    }
   ],
   "source": [
    "# if the moments are centered on CG\n",
    "dz = np.ones(6)*(-0.3930344)\n",
    "m1 = calcMHP(alpha, beta, dx, dy, dz)\n",
    "print(m1)\n",
    "print(np.linalg.pinv(m1))\n",
    "#this goes from load cell forces to [Fx, Fy, Fz, Mx, My, Mz],\n",
    "#. or from mirror position [x,y,z,rx,ry,rz] to hard point length\n",
    "# It matches https://github.com/lsst-ts/ts_m1m3support/blob/master/SettingFiles/Tables/MirrorPositionToHardpointDisplacementTable.csv"
   ]
  },
  {
   "cell_type": "code",
   "execution_count": 58,
   "metadata": {},
   "outputs": [
    {
     "name": "stdout",
     "output_type": "stream",
     "text": [
      "[[ 0.7416  0.2036 -0.538   0.538  -0.2036 -0.7415]\n",
      " [ 0.1931 -0.7387  0.5457  0.5457 -0.7387  0.193 ]\n",
      " [ 0.6425  0.6425  0.6425  0.6425  0.6425  0.6425]\n",
      " [ 1.8493 -0.3791 -1.4706 -1.4707 -0.3792  1.8493]\n",
      " [ 0.6294  1.9161  1.2859 -1.2873 -1.9175 -0.631 ]\n",
      " [-2.3235  2.323  -2.3234  2.3245 -2.3248  2.3238]]\n"
     ]
    }
   ],
   "source": [
    "# this is what we use *now* (2019 for Mirror Lab testing)\n",
    "mn = np.loadtxt('MHP.txt')*-1\n",
    "print(mn)"
   ]
  },
  {
   "cell_type": "code",
   "execution_count": 73,
   "metadata": {},
   "outputs": [
    {
     "data": {
      "image/png": "[encoded data removed]",
      "text/plain": [
       "<Figure size 432x288 with 1 Axes>"
      ]
     },
     "metadata": {
      "needs_background": "light"
     },
     "output_type": "display_data"
    }
   ],
   "source": [
    "x0 = np.arange(36)+1\n",
    "plt.plot(x0, mn.reshape(-1,1)-m0.reshape(-1,1), 'b')\n",
    "plt.plot(x0, mn.reshape(-1,1)-m1.reshape(-1,1), 'r')\n",
    "plt.grid()"
   ]
  },
  {
   "cell_type": "code",
   "execution_count": 79,
   "metadata": {},
   "outputs": [
    {
     "data": {
      "text/plain": [
       "<matplotlib.colorbar.Colorbar at 0x11a6c46a0>"
      ]
     },
     "execution_count": 79,
     "metadata": {},
     "output_type": "execute_result"
    },
    {
     "data": {
      "image/png": "[encoded data removed]",
      "text/plain": [
       "<Figure size 432x288 with 2 Axes>"
      ]
     },
     "metadata": {
      "needs_background": "light"
     },
     "output_type": "display_data"
    }
   ],
   "source": [
    "plt.imshow(mn-m0)\n",
    "plt.colorbar()"
   ]
  },
  {
   "cell_type": "code",
   "execution_count": 80,
   "metadata": {},
   "outputs": [
    {
     "data": {
      "text/plain": [
       "<matplotlib.colorbar.Colorbar at 0x11a844080>"
      ]
     },
     "execution_count": 80,
     "metadata": {},
     "output_type": "execute_result"
    },
    {
     "data": {
      "image/png": "[encoded data removed]",
      "text/plain": [
       "<Figure size 432x288 with 2 Axes>"
      ]
     },
     "metadata": {
      "needs_background": "light"
     },
     "output_type": "display_data"
    }
   ],
   "source": [
    "plt.imshow(mn-m1)\n",
    "plt.colorbar()"
   ]
  },
  {
   "cell_type": "code",
   "execution_count": null,
   "metadata": {},
   "outputs": [],
   "source": []
  }
 ],
 "metadata": {
  "kernelspec": {
   "display_name": "Python 3",
   "language": "python",
   "name": "python3"
  },
  "language_info": {
   "codemirror_mode": {
    "name": "ipython",
    "version": 3
   },
   "file_extension": ".py",
   "mimetype": "text/x-python",
   "name": "python",
   "nbconvert_exporter": "python",
   "pygments_lexer": "ipython3",
   "version": "3.7.4"
  }
 },
 "nbformat": 4,
 "nbformat_minor": 2
}
