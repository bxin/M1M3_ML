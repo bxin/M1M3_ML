{
 "cells": [
  {
   "cell_type": "markdown",
   "metadata": {},
   "source": [
    "## Demonstrate the calculation of hard point matrix\n",
    "\n",
    "this goes from load cell forces to [Fx, Fy, Fz, Mx, My, Mz],\n",
    " or from mirror position [x,y,z,rx,ry,rz] to hard point length\n",
    "\n",
    "(yes, force * length = moments, rotation * length = length)\n",
    "\n",
    "### Took engineering drawing data from slides emailed by Felipe on 4/9/2019"
   ]
  },
  {
   "cell_type": "code",
   "execution_count": 2,
   "metadata": {},
   "outputs": [
    {
     "data": {
      "text/plain": [
       "<Figure size 432x288 with 0 Axes>"
      ]
     },
     "metadata": {},
     "output_type": "display_data"
    }
   ],
   "source": [
    "import matplotlib.pyplot as plt\n",
    "import numpy as np\n",
    "import pandas as pd\n",
    "import os\n",
    "\n",
    "plt.jet();"
   ]
  },
  {
   "cell_type": "code",
   "execution_count": 3,
   "metadata": {},
   "outputs": [],
   "source": [
    "# input data\n",
    "alpha = 40.550036 #deg\n",
    "# for below, look at Felipe slide 6\n",
    "# 1 and 2 point away from each other, so do 3 and 4, 5 and 6.\n",
    "a1 = np.arctan(0.991276/3.724100)\n",
    "a2 = np.arctan(1.003579/3.720803)\n",
    "a3 = np.arctan(2.729527/2.720520)\n",
    "\n",
    "beta = np.zeros(6)\n",
    "beta[0] = a1 #angle between hard point *1* (vector) and +x axis\n",
    "beta[1] = np.pi*1.5+ a2\n",
    "beta[2] = np.pi - a3\n",
    "beta[3] = a3\n",
    "beta[4] = np.pi*1.5 - a2\n",
    "beta[5] = np.pi - a1\n",
    "\n",
    "alpha = alpha/180*np.pi"
   ]
  },
  {
   "cell_type": "code",
   "execution_count": 4,
   "metadata": {},
   "outputs": [
    {
     "name": "stdout",
     "output_type": "stream",
     "text": [
      "beta[0] =  14.905 degrees\n",
      "beta[1] = 285.095 degrees\n",
      "beta[2] = 134.905 degrees\n",
      "beta[3] =  45.095 degrees\n",
      "beta[4] = 254.905 degrees\n",
      "beta[5] = 165.095 degrees\n"
     ]
    }
   ],
   "source": [
    "# check again Felipe's numbers\n",
    "for i in range(6):\n",
    "    print('beta[%d] = %7.3f degrees'%(i, beta[i]/np.pi*180))"
   ]
  },
  {
   "cell_type": "code",
   "execution_count": 5,
   "metadata": {},
   "outputs": [],
   "source": [
    "dx = [-1.413072, -3.115501, -1.810974, 1.810974, 3.115501, 1.413072]\n",
    "dy = [2.826964, -0.531179, -2.590149, -2.590149, -0.531179, 2.826964]"
   ]
  },
  {
   "cell_type": "code",
   "execution_count": 6,
   "metadata": {},
   "outputs": [],
   "source": [
    "def calcMHP(alpha, beta, dx, dy, dz):\n",
    "    '''\n",
    "    inputs:\n",
    "        alpha = inclination angle (angle between hard points and xy plane)\n",
    "        beta[0:5] = when projected to xy plane, angle between hard points and +x axis\n",
    "        dx[0:5], dy[0:5], dz[0:5] are the coordinates of the points of contact with back plate of the mirror.\n",
    "    output:\n",
    "        m = transformation matrix\n",
    "        [Fx, Fy, Fz, Mx, My, Mz] = m * [l1, l2, l3, l4, l5, l6]\n",
    "        l1:6 is are hard point load cell readings.\n",
    "        or\n",
    "        [d1,d2,d3,d4,d5,d6] = m * [x,y,z,rx,ry,rz]\n",
    "        d1:6 is are hard point displacements (length change)\n",
    "        \n",
    "        (yes, force * length = moments, rotation * length = length)\n",
    "        When deriving [Fx, Fy, Fz, Mx, My, Mz] from [l1, l2, l3, l4, l5, l6], \n",
    "            calculate how each HP force contribute to total force and moments.\n",
    "        When deriving [d1,d2,d3,d4,d5,d6] from [x,y,z,rx,ry,rz],\n",
    "            calculate how each system motion extends or squeeze each HP.\n",
    "            To help visualize, think about the following - \n",
    "            if you hang a rod from the ceiling, and it is 30 deg from vertical, \n",
    "            and pull it further away from vertical, this motion is decomposed into \n",
    "            a lengthening motion and a rotation around the pivot.\n",
    "    '''\n",
    "    m = np.zeros((6,6))\n",
    "    for i in range(6):\n",
    "        m[0,i] = np.cos(alpha)*np.cos(beta[i])\n",
    "        m[1,i] = np.cos(alpha)*np.sin(beta[i])\n",
    "        m[2,i] = np.sin(alpha)\n",
    "        m[3,i] = np.sin(alpha)*dy[i] - np.cos(alpha)*np.sin(beta[i])*dz[i]\n",
    "        m[4,i] = np.cos(alpha)*np.cos(beta[i])*dz[i] - np.sin(alpha)*dx[i]\n",
    "        m[5,i] = np.cos(alpha)*np.sin(beta[i])*dx[i] - np.cos(alpha)*np.cos(beta[i])*dy[i]\n",
    "    return m"
   ]
  },
  {
   "cell_type": "markdown",
   "metadata": {},
   "source": [
    "### if the momments are centered on actuator plane (This is the right thing to do)\n",
    "\n",
    "see https://github.com/lsst-ts/ts_m1m3support/pull/67"
   ]
  },
  {
   "cell_type": "code",
   "execution_count": 7,
   "metadata": {},
   "outputs": [
    {
     "name": "stdout",
     "output_type": "stream",
     "text": [
      " columns: l1 l2 l3 l4 l5 l6\n",
      " or   x,y,z,rx,ry,rz = MirrorPositionToHardpointDisplacementTable.csv\n",
      "[[ 0.73427166  0.19787323 -0.53639829  0.53639829 -0.19787323 -0.73427166]\n",
      " [ 0.19544746 -0.73362167  0.53817418  0.53817418 -0.73362167  0.19544746]\n",
      " [ 0.65011186  0.65011186  0.65011186  0.65011186  0.65011186  0.65011186]\n",
      " [ 1.83784282 -0.34532577 -1.68388658 -1.68388658 -0.34532577  1.83784282]\n",
      " [ 0.91865486  2.02542414  1.17733567 -1.17733567 -2.02542414 -0.91865486]\n",
      " [-2.35194086  2.39070516 -2.36397094  2.36397094 -2.39070516  2.35194086]]\n",
      " columns: Fx, Fy, Fz, Mx, My, Mz\n",
      " or d1,d2,d3,d4,d5,d6\n",
      "[[ 0.40294457  0.16648103  0.27188671  0.15817726  0.04317411 -0.06992825]\n",
      " [ 0.03165966 -0.43800858  0.25218361 -0.042626    0.15886127  0.07193441]\n",
      " [-0.36887631  0.27152756  0.2450281  -0.11555125  0.11770343 -0.06918822]\n",
      " [ 0.36887631  0.27152756  0.2450281  -0.11555125 -0.11770343  0.06918822]\n",
      " [-0.03165966 -0.43800858  0.25218361 -0.042626   -0.15886127 -0.07193441]\n",
      " [-0.40294457  0.16648103  0.27188671  0.15817726 -0.04317411  0.06992825]]\n"
     ]
    }
   ],
   "source": [
    "dz = np.ones(6)*0\n",
    "m0 = calcMHP(alpha, beta, dx, dy, dz)\n",
    "print(' columns: l1 l2 l3 l4 l5 l6\\n or   x,y,z,rx,ry,rz = MirrorPositionToHardpointDisplacementTable.csv')\n",
    "print(m0)\n",
    "print(' columns: Fx, Fy, Fz, Mx, My, Mz\\n or d1,d2,d3,d4,d5,d6')\n",
    "print(np.linalg.pinv(m0))"
   ]
  },
  {
   "cell_type": "markdown",
   "metadata": {},
   "source": [
    "### Check the calculated matrix against what was in the software (accroding to Chris Contaxis)\n",
    "\n",
    "### We used to have the moments centered on CG (which was wrong thing to do)\n",
    "\n",
    "see https://github.com/lsst-ts/ts_m1m3support/pull/67"
   ]
  },
  {
   "cell_type": "code",
   "execution_count": 8,
   "metadata": {},
   "outputs": [
    {
     "name": "stdout",
     "output_type": "stream",
     "text": [
      "[[ 0.73427166  0.19787323 -0.53639829  0.53639829 -0.19787323 -0.73427166]\n",
      " [ 0.19544746 -0.73362167  0.53817418  0.53817418 -0.73362167  0.19544746]\n",
      " [ 0.65011186  0.65011186  0.65011186  0.65011186  0.65011186  0.65011186]\n",
      " [ 1.91466039 -0.63366432 -1.47236561 -1.47236561 -0.63366432  1.91466039]\n",
      " [ 0.63006084  1.94765316  1.38815865 -1.38815865 -1.94765316 -0.63006084]\n",
      " [-2.35194086  2.39070516 -2.36397094  2.36397094 -2.39070516  2.35194086]]\n",
      "[[ 0.41991348  0.10431192  0.27188671  0.15817726  0.04317411 -0.06992825]\n",
      " [ 0.09409761 -0.4212551   0.25218361 -0.042626    0.15886127  0.07193441]\n",
      " [-0.32261481  0.31694317  0.2450281  -0.11555125  0.11770343 -0.06918822]\n",
      " [ 0.32261481  0.31694317  0.2450281  -0.11555125 -0.11770343  0.06918822]\n",
      " [-0.09409761 -0.4212551   0.25218361 -0.042626   -0.15886127 -0.07193441]\n",
      " [-0.41991348  0.10431192  0.27188671  0.15817726 -0.04317411  0.06992825]]\n"
     ]
    }
   ],
   "source": [
    "dz = np.ones(6)*(-0.3930344)\n",
    "m1 = calcMHP(alpha, beta, dx, dy, dz)\n",
    "print(m1)\n",
    "print(np.linalg.pinv(m1))\n",
    "#this goes from load cell forces to [Fx, Fy, Fz, Mx, My, Mz],\n",
    "#. or from mirror position [x,y,z,rx,ry,rz] to hard point length\n",
    "# It matches https://github.com/lsst-ts/ts_m1m3support/blob/master/SettingFiles/Tables/MirrorPositionToHardpointDisplacementTable.csv"
   ]
  },
  {
   "cell_type": "code",
   "execution_count": 9,
   "metadata": {},
   "outputs": [
    {
     "name": "stdout",
     "output_type": "stream",
     "text": [
      "[[ 0.7416  0.2036 -0.538   0.538  -0.2036 -0.7415]\n",
      " [ 0.1931 -0.7387  0.5457  0.5457 -0.7387  0.193 ]\n",
      " [ 0.6425  0.6425  0.6425  0.6425  0.6425  0.6425]\n",
      " [ 1.8493 -0.3791 -1.4706 -1.4707 -0.3792  1.8493]\n",
      " [ 0.6294  1.9161  1.2859 -1.2873 -1.9175 -0.631 ]\n",
      " [-2.3235  2.323  -2.3234  2.3245 -2.3248  2.3238]]\n"
     ]
    }
   ],
   "source": [
    "# this is what we use *now* (2019 for Mirror Lab testing)\n",
    "mn = np.loadtxt('data/MHP.txt')*-1\n",
    "print(mn)"
   ]
  },
  {
   "cell_type": "markdown",
   "metadata": {},
   "source": [
    "#### Neither m0 nor mn (my calculations centered on backplate or CG) matched Chris' matrix well\n",
    "\n",
    "### But m0 matches Felipe slides 12 (5/30/19) perfectly. So, m0 is the right matrix to use."
   ]
  },
  {
   "cell_type": "code",
   "execution_count": 10,
   "metadata": {},
   "outputs": [
    {
     "data": {
      "image/png": "[encoded data removed]",
      "text/plain": [
       "<Figure size 432x288 with 1 Axes>"
      ]
     },
     "metadata": {
      "needs_background": "light"
     },
     "output_type": "display_data"
    }
   ],
   "source": [
    "x0 = np.arange(36)+1\n",
    "plt.plot(x0, mn.reshape(-1,1)-m0.reshape(-1,1), 'b')\n",
    "plt.plot(x0, mn.reshape(-1,1)-m1.reshape(-1,1), 'r')\n",
    "plt.grid()"
   ]
  },
  {
   "cell_type": "code",
   "execution_count": 11,
   "metadata": {},
   "outputs": [
    {
     "data": {
      "text/plain": [
       "<matplotlib.colorbar.Colorbar at 0x7fa011f81b50>"
      ]
     },
     "execution_count": 11,
     "metadata": {},
     "output_type": "execute_result"
    },
    {
     "data": {
      "image/png": "[encoded data removed]",
      "text/plain": [
       "<Figure size 432x288 with 2 Axes>"
      ]
     },
     "metadata": {
      "needs_background": "light"
     },
     "output_type": "display_data"
    }
   ],
   "source": [
    "plt.imshow(mn-m0)\n",
    "plt.colorbar()"
   ]
  },
  {
   "cell_type": "code",
   "execution_count": 12,
   "metadata": {},
   "outputs": [
    {
     "data": {
      "text/plain": [
       "<matplotlib.colorbar.Colorbar at 0x7fa012960790>"
      ]
     },
     "execution_count": 12,
     "metadata": {},
     "output_type": "execute_result"
    },
    {
     "data": {
      "image/png": "[encoded data removed]",
      "text/plain": [
       "<Figure size 432x288 with 2 Axes>"
      ]
     },
     "metadata": {
      "needs_background": "light"
     },
     "output_type": "display_data"
    }
   ],
   "source": [
    "plt.imshow(mn-m1)\n",
    "plt.colorbar()"
   ]
  },
  {
   "cell_type": "markdown",
   "metadata": {},
   "source": [
    "### Check and clarify the csv tables in the software (March 2021)"
   ]
  },
  {
   "cell_type": "code",
   "execution_count": 13,
   "metadata": {},
   "outputs": [],
   "source": [
    "csvFile = '%s/lsst_stack/ts_m1m3support/SettingFiles/Tables/MirrorPositionToHardpointDisplacementTable.csv'%os.environ['HOME']\n",
    "aa = pd.read_csv(csvFile)\n",
    "m1 = np.array(aa)[:,1:].astype(float)\n",
    "csvFile = '%s/lsst_stack/ts_m1m3support/SettingFiles/Tables/HardpointDisplacementToMirrorPositionTable.csv'%os.environ['HOME']\n",
    "bb = pd.read_csv(csvFile)\n",
    "m2 = np.array(bb)[:,1:].astype(float)\n",
    "csvFile = '%s/lsst_stack/ts_m1m3support/SettingFiles/Tables/HardpointForceMomentTable.csv'%os.environ['HOME']\n",
    "cc = pd.read_csv(csvFile)\n",
    "m3 = np.array(cc)[:,1:]"
   ]
  },
  {
   "cell_type": "code",
   "execution_count": 14,
   "metadata": {},
   "outputs": [
    {
     "name": "stdout",
     "output_type": "stream",
     "text": [
      "[[ 1.  0.  0.  0. -0.  0.]\n",
      " [-0.  1. -0.  0. -0.  0.]\n",
      " [-0.  0.  1.  0. -0. -0.]\n",
      " [ 0. -0. -0.  1. -0.  0.]\n",
      " [-0.  0.  0. -0.  1.  0.]\n",
      " [ 0. -0.  0. -0.  0.  1.]]\n"
     ]
    }
   ],
   "source": [
    "ii = np.matmul(m1,m2)\n",
    "np.set_printoptions(precision=4, suppress=True)\n",
    "print(ii)"
   ]
  },
  {
   "cell_type": "code",
   "execution_count": 15,
   "metadata": {},
   "outputs": [
    {
     "data": {
      "text/html": [
       "<div>\n",
       "<style scoped>\n",
       "    .dataframe tbody tr th:only-of-type {\n",
       "        vertical-align: middle;\n",
       "    }\n",
       "\n",
       "    .dataframe tbody tr th {\n",
       "        vertical-align: top;\n",
       "    }\n",
       "\n",
       "    .dataframe thead th {\n",
       "        text-align: right;\n",
       "    }\n",
       "</style>\n",
       "<table border=\"1\" class=\"dataframe\">\n",
       "  <thead>\n",
       "    <tr style=\"text-align: right;\">\n",
       "      <th></th>\n",
       "      <th>HP</th>\n",
       "      <th>X</th>\n",
       "      <th>Y</th>\n",
       "      <th>Z</th>\n",
       "      <th>Rx</th>\n",
       "      <th>Ry</th>\n",
       "      <th>Rz</th>\n",
       "    </tr>\n",
       "  </thead>\n",
       "  <tbody>\n",
       "    <tr>\n",
       "      <th>0</th>\n",
       "      <td>3</td>\n",
       "      <td>-0.536402</td>\n",
       "      <td>0.538178</td>\n",
       "      <td>0.650116</td>\n",
       "      <td>-0.028894</td>\n",
       "      <td>0.019833</td>\n",
       "      <td>-0.040259</td>\n",
       "    </tr>\n",
       "    <tr>\n",
       "      <th>1</th>\n",
       "      <td>4</td>\n",
       "      <td>0.536404</td>\n",
       "      <td>0.538176</td>\n",
       "      <td>0.650114</td>\n",
       "      <td>-0.028894</td>\n",
       "      <td>-0.019833</td>\n",
       "      <td>0.040259</td>\n",
       "    </tr>\n",
       "    <tr>\n",
       "      <th>2</th>\n",
       "      <td>5</td>\n",
       "      <td>-0.197874</td>\n",
       "      <td>-0.733627</td>\n",
       "      <td>0.650112</td>\n",
       "      <td>-0.002729</td>\n",
       "      <td>-0.034939</td>\n",
       "      <td>-0.040258</td>\n",
       "    </tr>\n",
       "    <tr>\n",
       "      <th>3</th>\n",
       "      <td>6</td>\n",
       "      <td>-0.734276</td>\n",
       "      <td>0.195449</td>\n",
       "      <td>0.650112</td>\n",
       "      <td>0.031623</td>\n",
       "      <td>-0.015106</td>\n",
       "      <td>0.040258</td>\n",
       "    </tr>\n",
       "    <tr>\n",
       "      <th>4</th>\n",
       "      <td>1</td>\n",
       "      <td>0.734276</td>\n",
       "      <td>0.195447</td>\n",
       "      <td>0.650105</td>\n",
       "      <td>0.031623</td>\n",
       "      <td>0.015106</td>\n",
       "      <td>-0.040259</td>\n",
       "    </tr>\n",
       "    <tr>\n",
       "      <th>5</th>\n",
       "      <td>2</td>\n",
       "      <td>0.197873</td>\n",
       "      <td>-0.733627</td>\n",
       "      <td>0.650112</td>\n",
       "      <td>-0.002729</td>\n",
       "      <td>0.034940</td>\n",
       "      <td>0.040259</td>\n",
       "    </tr>\n",
       "  </tbody>\n",
       "</table>\n",
       "</div>"
      ],
      "text/plain": [
       "   HP         X         Y         Z        Rx        Ry        Rz\n",
       "0   3 -0.536402  0.538178  0.650116 -0.028894  0.019833 -0.040259\n",
       "1   4  0.536404  0.538176  0.650114 -0.028894 -0.019833  0.040259\n",
       "2   5 -0.197874 -0.733627  0.650112 -0.002729 -0.034939 -0.040258\n",
       "3   6 -0.734276  0.195449  0.650112  0.031623 -0.015106  0.040258\n",
       "4   1  0.734276  0.195447  0.650105  0.031623  0.015106 -0.040259\n",
       "5   2  0.197873 -0.733627  0.650112 -0.002729  0.034940  0.040259"
      ]
     },
     "execution_count": 15,
     "metadata": {},
     "output_type": "execute_result"
    }
   ],
   "source": [
    "aa"
   ]
  },
  {
   "cell_type": "code",
   "execution_count": 16,
   "metadata": {},
   "outputs": [
    {
     "data": {
      "text/html": [
       "<div>\n",
       "<style scoped>\n",
       "    .dataframe tbody tr th:only-of-type {\n",
       "        vertical-align: middle;\n",
       "    }\n",
       "\n",
       "    .dataframe tbody tr th {\n",
       "        vertical-align: top;\n",
       "    }\n",
       "\n",
       "    .dataframe thead th {\n",
       "        text-align: right;\n",
       "    }\n",
       "</style>\n",
       "<table border=\"1\" class=\"dataframe\">\n",
       "  <thead>\n",
       "    <tr style=\"text-align: right;\">\n",
       "      <th></th>\n",
       "      <th>direction</th>\n",
       "      <th>HP1</th>\n",
       "      <th>HP2</th>\n",
       "      <th>HP3</th>\n",
       "      <th>HP4</th>\n",
       "      <th>HP5</th>\n",
       "      <th>HP6</th>\n",
       "    </tr>\n",
       "  </thead>\n",
       "  <tbody>\n",
       "    <tr>\n",
       "      <th>0</th>\n",
       "      <td>x</td>\n",
       "      <td>-0.367990</td>\n",
       "      <td>0.367991</td>\n",
       "      <td>-0.034760</td>\n",
       "      <td>-0.402749</td>\n",
       "      <td>0.402753</td>\n",
       "      <td>0.034760</td>\n",
       "    </tr>\n",
       "    <tr>\n",
       "      <th>1</th>\n",
       "      <td>Y</td>\n",
       "      <td>0.252596</td>\n",
       "      <td>0.252595</td>\n",
       "      <td>-0.444990</td>\n",
       "      <td>0.192394</td>\n",
       "      <td>0.192394</td>\n",
       "      <td>-0.444989</td>\n",
       "    </tr>\n",
       "    <tr>\n",
       "      <th>2</th>\n",
       "      <td>Z</td>\n",
       "      <td>0.256366</td>\n",
       "      <td>0.256365</td>\n",
       "      <td>0.256365</td>\n",
       "      <td>0.256368</td>\n",
       "      <td>0.256368</td>\n",
       "      <td>0.256365</td>\n",
       "    </tr>\n",
       "    <tr>\n",
       "      <th>3</th>\n",
       "      <td>Rx</td>\n",
       "      <td>-6.831599</td>\n",
       "      <td>-6.831564</td>\n",
       "      <td>-2.520108</td>\n",
       "      <td>9.351774</td>\n",
       "      <td>9.351760</td>\n",
       "      <td>-2.520099</td>\n",
       "    </tr>\n",
       "    <tr>\n",
       "      <th>4</th>\n",
       "      <td>Ry</td>\n",
       "      <td>6.854204</td>\n",
       "      <td>-6.854183</td>\n",
       "      <td>-9.343445</td>\n",
       "      <td>-2.489255</td>\n",
       "      <td>2.489222</td>\n",
       "      <td>9.343463</td>\n",
       "    </tr>\n",
       "    <tr>\n",
       "      <th>5</th>\n",
       "      <td>Rz</td>\n",
       "      <td>-4.139905</td>\n",
       "      <td>4.139904</td>\n",
       "      <td>-4.139912</td>\n",
       "      <td>4.139896</td>\n",
       "      <td>-4.139920</td>\n",
       "      <td>4.139905</td>\n",
       "    </tr>\n",
       "  </tbody>\n",
       "</table>\n",
       "</div>"
      ],
      "text/plain": [
       "  direction       HP1       HP2       HP3       HP4       HP5       HP6\n",
       "0         x -0.367990  0.367991 -0.034760 -0.402749  0.402753  0.034760\n",
       "1         Y  0.252596  0.252595 -0.444990  0.192394  0.192394 -0.444989\n",
       "2         Z  0.256366  0.256365  0.256365  0.256368  0.256368  0.256365\n",
       "3        Rx -6.831599 -6.831564 -2.520108  9.351774  9.351760 -2.520099\n",
       "4        Ry  6.854204 -6.854183 -9.343445 -2.489255  2.489222  9.343463\n",
       "5        Rz -4.139905  4.139904 -4.139912  4.139896 -4.139920  4.139905"
      ]
     },
     "execution_count": 16,
     "metadata": {},
     "output_type": "execute_result"
    }
   ],
   "source": [
    "bb"
   ]
  },
  {
   "cell_type": "markdown",
   "metadata": {},
   "source": [
    "### Yes the below is the table that is still there as of 4/16/21. But Felipe confirmed that it is wrong (slide 13, dated 5/30/19). So we are getting it updated today with m0 above."
   ]
  },
  {
   "cell_type": "code",
   "execution_count": 17,
   "metadata": {},
   "outputs": [
    {
     "data": {
      "text/html": [
       "<div>\n",
       "<style scoped>\n",
       "    .dataframe tbody tr th:only-of-type {\n",
       "        vertical-align: middle;\n",
       "    }\n",
       "\n",
       "    .dataframe tbody tr th {\n",
       "        vertical-align: top;\n",
       "    }\n",
       "\n",
       "    .dataframe thead th {\n",
       "        text-align: right;\n",
       "    }\n",
       "</style>\n",
       "<table border=\"1\" class=\"dataframe\">\n",
       "  <thead>\n",
       "    <tr style=\"text-align: right;\">\n",
       "      <th></th>\n",
       "      <th>ID</th>\n",
       "      <th>Fx</th>\n",
       "      <th>Fy</th>\n",
       "      <th>Fz</th>\n",
       "      <th>Mx</th>\n",
       "      <th>My</th>\n",
       "      <th>Mz</th>\n",
       "    </tr>\n",
       "  </thead>\n",
       "  <tbody>\n",
       "    <tr>\n",
       "      <th>0</th>\n",
       "      <td>1</td>\n",
       "      <td>-0.7416</td>\n",
       "      <td>-0.2036</td>\n",
       "      <td>0.5380</td>\n",
       "      <td>-0.5380</td>\n",
       "      <td>0.2036</td>\n",
       "      <td>0.7415</td>\n",
       "    </tr>\n",
       "    <tr>\n",
       "      <th>1</th>\n",
       "      <td>2</td>\n",
       "      <td>-0.1931</td>\n",
       "      <td>0.7387</td>\n",
       "      <td>-0.5457</td>\n",
       "      <td>-0.5457</td>\n",
       "      <td>0.7387</td>\n",
       "      <td>-0.1930</td>\n",
       "    </tr>\n",
       "    <tr>\n",
       "      <th>2</th>\n",
       "      <td>3</td>\n",
       "      <td>-0.6425</td>\n",
       "      <td>-0.6425</td>\n",
       "      <td>-0.6425</td>\n",
       "      <td>-0.6425</td>\n",
       "      <td>-0.6425</td>\n",
       "      <td>-0.6425</td>\n",
       "    </tr>\n",
       "    <tr>\n",
       "      <th>3</th>\n",
       "      <td>4</td>\n",
       "      <td>-1.8493</td>\n",
       "      <td>0.3791</td>\n",
       "      <td>1.4706</td>\n",
       "      <td>1.4707</td>\n",
       "      <td>0.3792</td>\n",
       "      <td>-1.8493</td>\n",
       "    </tr>\n",
       "    <tr>\n",
       "      <th>4</th>\n",
       "      <td>5</td>\n",
       "      <td>-0.6294</td>\n",
       "      <td>-1.9161</td>\n",
       "      <td>-1.2859</td>\n",
       "      <td>1.2873</td>\n",
       "      <td>1.9175</td>\n",
       "      <td>0.6310</td>\n",
       "    </tr>\n",
       "    <tr>\n",
       "      <th>5</th>\n",
       "      <td>6</td>\n",
       "      <td>2.3235</td>\n",
       "      <td>-2.3230</td>\n",
       "      <td>2.3234</td>\n",
       "      <td>-2.3245</td>\n",
       "      <td>2.3248</td>\n",
       "      <td>-2.3238</td>\n",
       "    </tr>\n",
       "  </tbody>\n",
       "</table>\n",
       "</div>"
      ],
      "text/plain": [
       "   ID      Fx      Fy      Fz      Mx      My      Mz\n",
       "0   1 -0.7416 -0.2036  0.5380 -0.5380  0.2036  0.7415\n",
       "1   2 -0.1931  0.7387 -0.5457 -0.5457  0.7387 -0.1930\n",
       "2   3 -0.6425 -0.6425 -0.6425 -0.6425 -0.6425 -0.6425\n",
       "3   4 -1.8493  0.3791  1.4706  1.4707  0.3792 -1.8493\n",
       "4   5 -0.6294 -1.9161 -1.2859  1.2873  1.9175  0.6310\n",
       "5   6  2.3235 -2.3230  2.3234 -2.3245  2.3248 -2.3238"
      ]
     },
     "execution_count": 17,
     "metadata": {},
     "output_type": "execute_result"
    }
   ],
   "source": [
    "cc"
   ]
  },
  {
   "cell_type": "code",
   "execution_count": null,
   "metadata": {},
   "outputs": [],
   "source": []
  }
 ],
 "metadata": {
  "kernelspec": {
   "display_name": "Python 3",
   "language": "python",
   "name": "python3"
  },
  "language_info": {
   "codemirror_mode": {
    "name": "ipython",
    "version": 3
   },
   "file_extension": ".py",
   "mimetype": "text/x-python",
   "name": "python",
   "nbconvert_exporter": "python",
   "pygments_lexer": "ipython3",
   "version": "3.7.4"
  }
 },
 "nbformat": 4,
 "nbformat_minor": 2
}
