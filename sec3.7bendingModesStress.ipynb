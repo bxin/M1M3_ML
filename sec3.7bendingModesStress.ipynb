{
 "cells": [
  {
   "cell_type": "code",
   "execution_count": 1,
   "metadata": {},
   "outputs": [],
   "source": [
    "import pandas as pd\n",
    "import numpy as np\n",
    "import matplotlib.pyplot as plt\n",
    "\n",
    "%matplotlib inline"
   ]
  },
  {
   "cell_type": "code",
   "execution_count": 17,
   "metadata": {},
   "outputs": [],
   "source": [
    "EdFile = '../bendingML/LSST balanced force sets w Stress.xlsx'\n",
    "df = pd.read_excel(EdFile) #, sheet_name='StressFromFEA', skiprows=1)"
   ]
  },
  {
   "cell_type": "code",
   "execution_count": 18,
   "metadata": {},
   "outputs": [
    {
     "data": {
      "text/plain": [
       "Index([  'Unnamed: 0', 'Bending Mode',   'Unnamed: 2',              1,\n",
       "                    2,              3,              4,              5,\n",
       "                    6,              7,              8,              9,\n",
       "                   10,             11,             12,             13,\n",
       "                   14,             15,             16,             17,\n",
       "                   18,             19,             20,             21,\n",
       "                   22,             23,             24,             25,\n",
       "                   26,             27,             28,             29,\n",
       "                   30],\n",
       "      dtype='object')"
      ]
     },
     "execution_count": 18,
     "metadata": {},
     "output_type": "execute_result"
    }
   ],
   "source": [
    "df.keys()"
   ]
  },
  {
   "cell_type": "code",
   "execution_count": 31,
   "metadata": {},
   "outputs": [],
   "source": [
    "idx=~np.isnan(df[1])\n",
    "xp = range(1,30+1)\n",
    "zmax = np.zeros(30)\n",
    "zmin = np.zeros(30)\n",
    "for i in range(30):\n",
    "    zmin[i] = np.min(df[i+1][idx])\n",
    "    zmax[i] = np.max(df[i+1][idx])"
   ]
  },
  {
   "cell_type": "code",
   "execution_count": 38,
   "metadata": {},
   "outputs": [
    {
     "data": {
      "text/plain": [
       "Text(0, 0.5, 'max stress (Pascal)')"
      ]
     },
     "execution_count": 38,
     "metadata": {},
     "output_type": "execute_result"
    },
    {
     "data": {
      "image/png": "[encoded data removed]",
      "text/plain": [
       "<Figure size 432x288 with 1 Axes>"
      ]
     },
     "metadata": {
      "needs_background": "light"
     },
     "output_type": "display_data"
    }
   ],
   "source": [
    "plt.bar(xp, zmax, label='push')\n",
    "plt.bar(xp, zmin, label='pull')\n",
    "plt.legend(loc='best')\n",
    "plt.grid()\n",
    "plt.title('Max stress on glass per 1N RMS force')\n",
    "plt.xlabel('bending mode')\n",
    "plt.ylabel('max stress (Pascal)')"
   ]
  },
  {
   "cell_type": "code",
   "execution_count": 45,
   "metadata": {},
   "outputs": [],
   "source": [
    "srms = [141.3, 141.1, 32.8, 22.3, \n",
    "        22.1, 9.6, 9.2, 7.6,\n",
    "       7.0, 5.2, 5.0, 4.79,\n",
    "       3.34, 3.32, 2.78, 2.66,\n",
    "       2.26, 2.22, 1.85, 1.80,\n",
    "       1.44, 1.38]\n",
    "nmax = 22\n",
    "xp = range(1,nmax+1)\n",
    "zmax = zmax[:nmax]/srms\n",
    "zmin = zmin[:nmax]/srms"
   ]
  },
  {
   "cell_type": "code",
   "execution_count": 46,
   "metadata": {},
   "outputs": [
    {
     "data": {
      "text/plain": [
       "Text(0, 0.5, 'max stress (Pascal)')"
      ]
     },
     "execution_count": 46,
     "metadata": {},
     "output_type": "execute_result"
    },
    {
     "data": {
      "image/png": "[encoded data removed]",
      "text/plain": [
       "<Figure size 432x288 with 1 Axes>"
      ]
     },
     "metadata": {
      "needs_background": "light"
     },
     "output_type": "display_data"
    }
   ],
   "source": [
    "plt.bar(xp, zmax, label='push')\n",
    "plt.bar(xp, zmin, label='pull')\n",
    "plt.legend(loc='best')\n",
    "plt.grid()\n",
    "plt.title('Max stress on glass per 1nm RMS surface deformation')\n",
    "plt.xlabel('bending mode')\n",
    "plt.ylabel('max stress (Pascal)')"
   ]
  },
  {
   "cell_type": "code",
   "execution_count": null,
   "metadata": {},
   "outputs": [],
   "source": []
  }
 ],
 "metadata": {
  "kernelspec": {
   "display_name": "Python 3",
   "language": "python",
   "name": "python3"
  },
  "language_info": {
   "codemirror_mode": {
    "name": "ipython",
    "version": 3
   },
   "file_extension": ".py",
   "mimetype": "text/x-python",
   "name": "python",
   "nbconvert_exporter": "python",
   "pygments_lexer": "ipython3",
   "version": "3.7.2"
  }
 },
 "nbformat": 4,
 "nbformat_minor": 2
}
