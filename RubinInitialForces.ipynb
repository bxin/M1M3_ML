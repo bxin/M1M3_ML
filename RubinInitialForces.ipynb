{
 "cells": [
  {
   "cell_type": "code",
   "execution_count": 1,
   "metadata": {},
   "outputs": [],
   "source": [
    "# see document-32192 for details of what we do in this notebook\n",
    "import pandas as pd\n",
    "import numpy as np\n",
    "import matplotlib.pyplot as plt\n",
    "import yaml\n",
    "import scipy.io\n",
    "\n",
    "%matplotlib inline"
   ]
  },
  {
   "cell_type": "code",
   "execution_count": 24,
   "metadata": {},
   "outputs": [],
   "source": [
    "# available in mat: 'F','xact','yact','actIDs'\n",
    "mat = scipy.io.loadmat('data/LSST_FEA_final.mat')\n",
    "xact = mat['xact'].squeeze()\n",
    "yact = mat['yact'].squeeze()\n",
    "F = mat['F'].squeeze()\n",
    "actIDs = mat['actIDs'].squeeze()"
   ]
  },
  {
   "cell_type": "code",
   "execution_count": 25,
   "metadata": {},
   "outputs": [
    {
     "data": {
      "text/plain": [
       "169687.87000000005"
      ]
     },
     "execution_count": 25,
     "metadata": {},
     "output_type": "execute_result"
    }
   ],
   "source": [
    "sum(F)"
   ]
  },
  {
   "cell_type": "code",
   "execution_count": 33,
   "metadata": {},
   "outputs": [
    {
     "data": {
      "text/plain": [
       "[<matplotlib.lines.Line2D at 0x123848f50>]"
      ]
     },
     "execution_count": 33,
     "metadata": {},
     "output_type": "execute_result"
    },
    {
     "data": {
      "image/png": "[encoded data removed]",
      "text/plain": [
       "<Figure size 432x288 with 1 Axes>"
      ]
     },
     "metadata": {
      "needs_background": "light"
     },
     "output_type": "display_data"
    }
   ],
   "source": [
    "plt.plot(actIDs,'.')"
   ]
  },
  {
   "cell_type": "code",
   "execution_count": 11,
   "metadata": {},
   "outputs": [],
   "source": [
    "actTypeFile = 'data/LS_CUP_ACTSTYLE_ID.xlsx'\n",
    "df = pd.read_excel(actTypeFile)\n",
    "#df.keys()\n",
    "idx00 = ~np.isnan(np.float64(df['Unnamed: 8'][2:])) #actuator ID column"
   ]
  },
  {
   "cell_type": "code",
   "execution_count": 12,
   "metadata": {},
   "outputs": [],
   "source": [
    "actType = df['Unnamed: 12'][2:][idx00]\n",
    "cupType = df['Unnamed: 13'][2:][idx00]\n",
    "puckType = df['Unnamed: 11'][2:][idx00]\n",
    "orientType = df['Unnamed: 10'][2:][idx00]\n",
    "nActuator = actType.shape[0]"
   ]
  },
  {
   "cell_type": "code",
   "execution_count": 13,
   "metadata": {},
   "outputs": [
    {
     "data": {
      "text/plain": [
       "156"
      ]
     },
     "execution_count": 13,
     "metadata": {},
     "output_type": "execute_result"
    }
   ],
   "source": [
    "nActuator"
   ]
  },
  {
   "cell_type": "code",
   "execution_count": 14,
   "metadata": {},
   "outputs": [
    {
     "name": "stdout",
     "output_type": "stream",
     "text": [
      "Removed 160 interface plates (each Quad had 2 plates), total is 112lb, according to Steve West\n",
      "Additional plates removed from 4 Quads\n",
      "\t each 0.51355 kg\n",
      "Additional plates removed from 114 Triples\n",
      "\t each 0.51355 kg\n",
      "1091.73176  == ?? ==  1091.7317600000006\n"
     ]
    }
   ],
   "source": [
    "# subtraction: hardware that were removed after the 2014 testing\n",
    "subtractF = np.zeros(nActuator)\n",
    "# for each actuator\n",
    "subtractF = subtractF + 50.8023*9.8/(156+4) #112 lbs is 50.8023 kilograms\n",
    "# for Quads, this needs to be doubled, so, add again.\n",
    "idx = puckType =='Quad Puck'\n",
    "subtractF[idx] = subtractF[idx] + 50.8023*9.8/(156+4)\n",
    "print('Removed 160 interface plates (each Quad had 2 plates), total is 112lb, according to Steve West')\n",
    "\n",
    "# additional plates that was removed.\n",
    "subtractF[idx] = subtractF[idx] + 0.51355*9.8\n",
    "print('Additional plates removed from %d Quads'%sum(idx))\n",
    "print('\\t each 0.51355 kg')\n",
    "idx = puckType =='Triple Puck'\n",
    "subtractF[idx] = subtractF[idx] + 0.51355*9.8\n",
    "print('Additional plates removed from %d Triples'%sum(idx))\n",
    "print('\\t each 0.51355 kg')\n",
    "\n",
    "# add up our subtraction by hand (in kg)\n",
    "subtractFsum = (50.8023 + 0.51355 * (114 +4))*9.8\n",
    "print(subtractFsum, ' == ?? == ' , sum(subtractF))"
   ]
  },
  {
   "cell_type": "code",
   "execution_count": 34,
   "metadata": {},
   "outputs": [
    {
     "name": "stdout",
     "output_type": "stream",
     "text": [
      "Added 38 SAA-1 actuators, each weigh 0.78617 kg\n",
      "Added 6 SAA-2 actuators, each weigh 0.97465 kg\n",
      "Added 114 interface cup - 1, each weigh 1.23000 kg\n",
      "Added 4 interface cup - 2, each weigh 1.85000 kg\n",
      "Added 342 interface plates on triple puck actuators, each weigh 0.10341 kg\n",
      "Added 16 interface plates on quad puck actuators, each weigh 0.10341 kg\n",
      "Modified 1 triple puck actuator to have 4 interface plates, each interface plate weight 0.10341 kg\n",
      "2160.5721900000003  == ?? ==  2160.5721900000035\n"
     ]
    }
   ],
   "source": [
    "# add LSST hardware, everything except DAAs here\n",
    "mSAA2 = 0.97465 #kg\n",
    "mSAA1 = 0.78617  #kg\n",
    "mIC1 = 1.23  #kg\n",
    "mIC2 = 1.85  #kg\n",
    "mIP = 103.41e-3   #kg, each, for interface plates\n",
    "addFz0 = np.zeros(nActuator)\n",
    "\n",
    "idx = actType == 'SAA-1'\n",
    "addFz0[idx] = addFz0[idx] + mSAA1*9.8\n",
    "print('Added %d SAA-1 actuators, each weigh %.5f kg'%(sum(idx), mSAA1))\n",
    "\n",
    "idx = actType ==  'SAA-2'\n",
    "addFz0[idx] = addFz0[idx] + mSAA2*9.8\n",
    "print('Added %d SAA-2 actuators, each weigh %.5f kg'%(sum(idx), mSAA2))\n",
    "\n",
    "idx = cupType == 'small flange'\n",
    "addFz0[idx] = addFz0[idx] +mIC1*9.8\n",
    "print('Added %d interface cup - 1, each weigh %.5f kg'%(sum(idx), mIC1))\n",
    "\n",
    "idx = cupType == 'large flange'\n",
    "addFz0[idx] = addFz0[idx] +mIC2*9.8\n",
    "print('Added %d interface cup - 2, each weigh %.5f kg'%(sum(idx), mIC2))\n",
    "\n",
    "idx = puckType == 'Triple Puck'\n",
    "addFz0[idx] = addFz0[idx] +mIP*9.8*3\n",
    "print('Added %d interface plates on triple puck actuators, each weigh %.5f kg'%(sum(idx)*3, mIP))\n",
    "\n",
    "idx = puckType == 'Quad Puck'\n",
    "addFz0[idx] = addFz0[idx] +mIP*9.8*4\n",
    "print('Added %d interface plates on quad puck actuators, each weigh %.5f kg'%(sum(idx)*4, mIP))\n",
    "\n",
    "#ID 238 is a triple puck, but was modified to have 4 interface plates\n",
    "idx = actIDs ==238\n",
    "addFz0[idx] = addFz0[idx] +mIP*9.8*1\n",
    "\n",
    "print('Modified %d triple puck actuator to have 4 interface plates, each interface plate weight %.5f kg'%(1,mIP))\n",
    "addFz0sum = (0.97465*6+0.78617*38+1.23*114+1.85*4+0.10341*(114*3+4*4+1))*9.8\n",
    "print(addFz0sum, ' == ?? == ', sum(addFz0))"
   ]
  },
  {
   "cell_type": "code",
   "execution_count": 35,
   "metadata": {},
   "outputs": [
    {
     "name": "stdout",
     "output_type": "stream",
     "text": [
      "25.8, -7.8 -5.5 20.3\n"
     ]
    }
   ],
   "source": [
    "# Now the DAAs\n",
    "def fc2fyz(fc1, fc2):\n",
    "    fy = fc2*np.cos(np.pi/4)\n",
    "    fz = fc2*np.cos(np.pi/4)+fc1\n",
    "    return fy, fz\n",
    "Wfork = 5.7\n",
    "alpha = 0.4385\n",
    "W = 38.0\n",
    "WU = 3.4\n",
    "fc1 = alpha*W + WU + Wfork  #Eq (4) in technical note\n",
    "fc2 = (Wfork - alpha*W)/np.sqrt(2)  #Eq (6) in technical note\n",
    "FyDAA, FzDAA = fc2fyz(fc1, fc2)\n",
    "#FzDAA = (3*Wfork + alpha *W)/2 + WU\n",
    "#FyDAA = (Wfork - alpha*W)/2\n",
    "print('%.1f, %.1f %.1f %.1f'%(fc1, fc2, FyDAA, FzDAA))"
   ]
  },
  {
   "cell_type": "code",
   "execution_count": 36,
   "metadata": {},
   "outputs": [
    {
     "name": "stdout",
     "output_type": "stream",
     "text": [
      "Added Fz = 20.3 N for each of the 112 DAA actuators\n",
      "Added Fy = -5.5 N for each of the 96 DAA/+Y LATERAL actuators\n",
      "Added Fy = 5.5 N for each of the 4 DAA/-Y LATERAL actuators\n",
      "Added Fx = 5.5 N for each of the 6 CROSSLATERAL actuators with positive x\n",
      "Added Fx = -5.5 N for each of the 6 CROSSLATERAL actuators with negative x\n"
     ]
    }
   ],
   "source": [
    "#\n",
    "addFz = np.zeros(nActuator)\n",
    "idx = actType == 'DAA'\n",
    "addFz[idx] = FzDAA\n",
    "print('Added Fz = %.1f N for each of the %d DAA actuators'%(FzDAA, sum(idx)))\n",
    "\n",
    "addFy = np.zeros(nActuator)\n",
    "idx = orientType == '+Y LATERAL'\n",
    "addFy[idx] = FyDAA\n",
    "print('Added Fy = %.1f N for each of the %d DAA/+Y LATERAL actuators'%(FyDAA, sum(idx)))\n",
    "idx = orientType == '-Y LATERAL'\n",
    "addFy[idx] = - FyDAA\n",
    "print('Added Fy = %.1f N for each of the %d DAA/-Y LATERAL actuators'%(-FyDAA, sum(idx)))\n",
    "\n",
    "# the crosslaterals squeeze the mirror when they all push\n",
    "addFx = np.zeros(nActuator)\n",
    "idx = (orientType == 'CROSSLATERAL') & (xact > 0)\n",
    "addFx[idx] = -FyDAA\n",
    "print('Added Fx = %.1f N for each of the %d CROSSLATERAL actuators with positive x'%(-FyDAA, sum(idx)))\n",
    "idx = (orientType == 'CROSSLATERAL') & (xact < 0)\n",
    "addFx[idx] = FyDAA\n",
    "print('Added Fx = %.1f N for each of the %d CROSSLATERAL actuators with negative x'%(FyDAA, sum(idx)))"
   ]
  },
  {
   "cell_type": "code",
   "execution_count": 38,
   "metadata": {},
   "outputs": [],
   "source": [
    "knownF = np.zeros((nActuator, 3))\n",
    "knownF[:,2] = F \n",
    "#knownF[:,2] -= subtractF\n",
    "knownF[:,2] += addFz0\n",
    "\n",
    "knownF[:,2] += addFz\n",
    "knownF[:,0] = addFx\n",
    "knownF[:,1] = addFy\n",
    "knownF0 = knownF.copy() #knownF0: without scaling, our best knowledge"
   ]
  },
  {
   "cell_type": "code",
   "execution_count": 39,
   "metadata": {},
   "outputs": [
    {
     "data": {
      "text/plain": [
       "4432.100190000008"
      ]
     },
     "execution_count": 39,
     "metadata": {},
     "output_type": "execute_result"
    }
   ],
   "source": [
    "sum(addFz)+sum(addFz0)"
   ]
  },
  {
   "cell_type": "code",
   "execution_count": 41,
   "metadata": {},
   "outputs": [
    {
     "name": "stdout",
     "output_type": "stream",
     "text": [
      "FEA F: 1849 1389 1387 1852\n",
      "knownF: 1892 1432 1430 1894\n"
     ]
    }
   ],
   "source": [
    "quadsID = [126, 113, 313, 326]\n",
    "idx1=int(np.where(actIDs == quadsID[0])[0][0])\n",
    "idx2=int(np.where(actIDs == quadsID[1])[0][0])\n",
    "idx3=int(np.where(actIDs == quadsID[2])[0][0])\n",
    "idx4=int(np.where(actIDs == quadsID[3])[0][0])\n",
    "print('FEA F: %.0f %.0f %.0f %.0f'%(F[idx1], F[idx2], F[idx3], F[idx4]))\n",
    "print('knownF: %.0f %.0f %.0f %.0f'%(knownF[idx1,2], knownF[idx2,2], knownF[idx3,2], knownF[idx4,2]))"
   ]
  },
  {
   "cell_type": "code",
   "execution_count": 42,
   "metadata": {},
   "outputs": [
    {
     "name": "stdout",
     "output_type": "stream",
     "text": [
      "sum of polishing forces: 169688 N\n",
      "sum of all the known forces: 174120 N\n",
      "This is how much we are missing: -1378 N\n",
      "note: in Sec3.2InitialForces.ipynb, we missed 3836 N\n"
     ]
    }
   ],
   "source": [
    "ChrisFtot = 172741.583  # in Newtons. from Chris.\n",
    "print('sum of polishing forces: %.0f N'%(sum(F) ))\n",
    "print('sum of all the known forces: %.0f N'%(sum(knownF0[:, 2]) ))\n",
    "print('This is how much we are missing: %.0f N'%(ChrisFtot - sum(knownF0[:, 2])))\n",
    "print('note: in Sec3.2InitialForces.ipynb, we missed 3836 N')\n",
    "scalef = ChrisFtot/sum(knownF0[:, 2])"
   ]
  },
  {
   "cell_type": "code",
   "execution_count": 16,
   "metadata": {},
   "outputs": [
    {
     "name": "stdout",
     "output_type": "stream",
     "text": [
      "Now the total Fz = 172742 N. Chris gave total mirror weight = 172742 N\n"
     ]
    }
   ],
   "source": [
    "knownF[:, 2] = knownF0[:, 2]*scalef\n",
    "print('Now the total Fz = %.0f N. Chris gave total mirror weight = %.0f N'%(sum(knownF[:,2]), ChrisFtot))"
   ]
  },
  {
   "cell_type": "code",
   "execution_count": 17,
   "metadata": {},
   "outputs": [],
   "source": [
    "knownF[:, 2] -= staticForce"
   ]
  },
  {
   "cell_type": "code",
   "execution_count": 26,
   "metadata": {
    "scrolled": true
   },
   "outputs": [
    {
     "name": "stdout",
     "output_type": "stream",
     "text": [
      "[[ 101.            0.            0.          704.9228784 ]\n",
      " [ 102.            0.           -5.4815      911.9579515 ]\n",
      " [ 103.            0.           -5.4815     1016.20388937]\n",
      " [ 104.            0.           -5.4815     1262.25334935]\n",
      " [ 105.            0.           -5.4815     1170.37342088]\n",
      " [ 106.            0.            0.         1397.20307368]\n",
      " [ 107.            0.            0.          737.31328136]\n",
      " [ 108.            0.           -5.4815      889.06650197]\n",
      " [ 109.            0.           -5.4815      955.26229135]\n",
      " [ 110.            0.           -5.4815     1196.75470857]\n",
      " [ 111.            0.           -5.4815     1264.29401878]\n",
      " [ 112.            5.4815        0.         1343.39724247]\n",
      " [ 113.            0.           -5.4815     1429.58634794]\n",
      " [ 114.            0.           -5.4815      836.47431828]\n",
      " [ 115.            0.           -5.4815      972.48547967]\n",
      " [ 116.            0.           -5.4815     1118.14232564]\n",
      " [ 117.            0.           -5.4815     1170.71679794]\n",
      " [ 118.            0.           -5.4815     1176.7612312 ]\n",
      " [ 119.            0.            0.          570.31616228]\n",
      " [ 120.            0.           -5.4815      987.27303558]\n",
      " [ 121.            0.           -5.4815     1031.6126464 ]\n",
      " [ 122.            0.           -5.4815     1121.50774465]\n",
      " [ 123.            0.           -5.4815     1259.06929408]\n",
      " [ 124.            0.           -5.4815     1341.56556827]\n",
      " [ 125.            0.            0.         1027.89207212]\n",
      " [ 126.            0.           -5.4815     1884.64237289]\n",
      " [ 127.            0.           -5.4815     1022.63073533]\n",
      " [ 128.            5.4815        0.         1291.13088317]\n",
      " [ 129.            0.           -5.4815     1282.81052358]\n",
      " [ 130.            0.           -5.4815     1123.48248407]\n",
      " [ 131.            0.            0.         1101.304207  ]\n",
      " [ 132.            0.           -5.4815     1267.02807337]\n",
      " [ 133.            0.           -5.4815     1320.92473256]\n",
      " [ 134.            0.           -5.4815     1090.53911863]\n",
      " [ 135.            5.4815        0.         1462.72889897]\n",
      " [ 136.            0.            0.          997.40001551]\n",
      " [ 137.            0.           -5.4815     1249.63563655]\n",
      " [ 138.            0.           -5.4815     1262.64390761]\n",
      " [ 139.            0.            0.          762.51221291]\n",
      " [ 140.            0.            0.         1256.90946926]\n",
      " [ 141.            0.            0.         1172.98812264]\n",
      " [ 142.            0.            0.         1102.78224751]\n",
      " [ 143.            0.            0.          524.10181782]\n",
      " [ 207.            0.            0.          735.91713692]\n",
      " [ 208.            0.           -5.4815      889.38002778]\n",
      " [ 209.            0.           -5.4815      954.44346528]\n",
      " [ 210.            0.           -5.4815     1196.70198353]\n",
      " [ 211.            0.           -5.4815     1263.58930746]\n",
      " [ 212.           -5.4815        0.         1340.32262686]\n",
      " [ 214.            0.           -5.4815      837.29070464]\n",
      " [ 215.            0.           -5.4815      971.90648467]\n",
      " [ 216.            0.           -5.4815     1117.21763134]\n",
      " [ 217.            0.           -5.4815     1168.32388765]\n",
      " [ 218.            0.           -5.4815     1174.82856137]\n",
      " [ 219.            0.            0.          569.61545936]\n",
      " [ 220.            0.           -5.4815      987.32193261]\n",
      " [ 221.            0.           -5.4815     1030.94681695]\n",
      " [ 222.            0.           -5.4815     1123.53357083]\n",
      " [ 223.            0.           -5.4815     1259.02696306]\n",
      " [ 224.            0.           -5.4815     1341.52712481]\n",
      " [ 225.            0.            0.         1024.44691564]\n",
      " [ 227.            0.           -5.4815     1025.02430348]\n",
      " [ 228.           -5.4815        0.         1293.87892974]\n",
      " [ 229.            0.           -5.4815     1284.88800396]\n",
      " [ 230.            0.           -5.4815     1124.14087145]\n",
      " [ 231.            0.            0.         1100.75020352]\n",
      " [ 232.            0.           -5.4815     1268.81346463]\n",
      " [ 233.            0.           -5.4815     1322.83178853]\n",
      " [ 234.            0.           -5.4815     1093.49568427]\n",
      " [ 235.           -5.4815        0.         1469.51188069]\n",
      " [ 236.            0.            0.         1000.00425841]\n",
      " [ 237.            0.           -5.4815     1250.22360344]\n",
      " [ 238.            0.           -5.4815     1293.7192403 ]\n",
      " [ 239.            0.            0.          767.78431922]\n",
      " [ 240.            0.            0.         1264.60175157]\n",
      " [ 241.            0.            0.         1175.90804231]\n",
      " [ 242.            0.            0.         1109.37609164]\n",
      " [ 243.            0.            0.          527.87004555]\n",
      " [ 301.            0.            0.          703.11703355]\n",
      " [ 302.            0.           -5.4815      912.24005122]\n",
      " [ 303.            0.           -5.4815     1015.03562287]\n",
      " [ 304.            0.           -5.4815     1263.33442109]\n",
      " [ 305.            0.           -5.4815     1169.41336228]\n",
      " [ 306.            0.            0.         1398.26305925]\n",
      " [ 307.            0.            0.          741.75686704]\n",
      " [ 308.            0.           -5.4815      883.58990561]\n",
      " [ 309.            0.           -5.4815      956.27294465]\n",
      " [ 310.            0.           -5.4815     1197.02123698]\n",
      " [ 311.            0.            5.4815     1249.54056113]\n",
      " [ 312.           -5.4815        0.         1343.6749476 ]\n",
      " [ 313.            0.           -5.4815     1432.53977011]\n",
      " [ 314.            0.           -5.4815      839.07402541]\n",
      " [ 315.            0.           -5.4815      975.65402178]\n",
      " [ 316.            0.           -5.4815     1116.88736813]\n",
      " [ 317.            0.           -5.4815     1171.92113339]\n",
      " [ 318.            0.           -5.4815     1183.41867826]\n",
      " [ 319.            0.            0.          568.7624079 ]\n",
      " [ 320.            0.           -5.4815      988.27838503]\n",
      " [ 321.            0.           -5.4815     1030.58786478]\n",
      " [ 322.            0.           -5.4815     1123.43159112]\n",
      " [ 323.            0.           -5.4815     1262.59418519]\n",
      " [ 324.            0.           -5.4815     1333.64907487]\n",
      " [ 325.            0.            0.         1022.29993163]\n",
      " [ 326.            0.           -5.4815     1884.24573236]\n",
      " [ 327.            0.           -5.4815     1026.17145897]\n",
      " [ 328.           -5.4815        0.         1289.1172219 ]\n",
      " [ 329.            0.           -5.4815     1273.78415959]\n",
      " [ 330.            0.           -5.4815     1126.43351613]\n",
      " [ 331.            0.            0.         1102.84837155]\n",
      " [ 332.            0.           -5.4815     1264.21036392]\n",
      " [ 333.            0.           -5.4815     1334.36696743]\n",
      " [ 334.            0.            5.4815     1078.70874611]\n",
      " [ 335.           -5.4815        0.         1460.78818513]\n",
      " [ 336.            0.            0.          993.97322409]\n",
      " [ 337.            0.           -5.4815     1250.51824036]\n",
      " [ 338.            0.           -5.4815     1254.86490654]\n",
      " [ 339.            0.            0.          770.42602701]\n",
      " [ 340.            0.            0.         1251.5085707 ]\n",
      " [ 341.            0.            0.         1164.1801847 ]\n",
      " [ 342.            0.            0.         1098.51397555]\n",
      " [ 343.            0.            0.          520.2098079 ]\n",
      " [ 407.            0.            0.          742.74821728]\n",
      " [ 408.            0.           -5.4815      882.69209356]\n",
      " [ 409.            0.           -5.4815      957.40992085]\n",
      " [ 410.            0.           -5.4815     1196.06921141]\n",
      " [ 411.            0.            5.4815     1249.38813936]\n",
      " [ 412.            5.4815        0.         1341.19108629]\n",
      " [ 414.            0.           -5.4815      839.205343  ]\n",
      " [ 415.            0.           -5.4815      977.41640075]\n",
      " [ 416.            0.           -5.4815     1115.63120606]\n",
      " [ 417.            0.           -5.4815     1171.96765324]\n",
      " [ 418.            0.           -5.4815     1181.34450516]\n",
      " [ 419.            0.            0.          566.71750916]\n",
      " [ 420.            0.           -5.4815      988.830301  ]\n",
      " [ 421.            0.           -5.4815     1030.60287017]\n",
      " [ 422.            0.           -5.4815     1123.6585474 ]\n",
      " [ 423.            0.           -5.4815     1264.39426075]\n",
      " [ 424.            0.           -5.4815     1332.45194326]\n",
      " [ 425.            0.            0.         1019.72821757]\n",
      " [ 427.            0.           -5.4815     1025.22403631]\n",
      " [ 428.            5.4815        0.         1291.19997573]\n",
      " [ 429.            0.           -5.4815     1276.24450667]\n",
      " [ 430.            0.           -5.4815     1126.65784853]\n",
      " [ 431.            0.            0.         1101.86223323]\n",
      " [ 432.            0.           -5.4815     1264.63487427]\n",
      " [ 433.            0.           -5.4815     1337.31390758]\n",
      " [ 434.            0.            5.4815     1081.62274172]\n",
      " [ 435.            5.4815        0.         1466.25526903]\n",
      " [ 436.            0.            0.          996.30926502]\n",
      " [ 437.            0.           -5.4815     1252.5576154 ]\n",
      " [ 438.            0.           -5.4815     1258.74104315]\n",
      " [ 439.            0.            0.          774.67872281]\n",
      " [ 440.            0.            0.         1258.67733061]\n",
      " [ 441.            0.            0.         1166.03883712]\n",
      " [ 442.            0.            0.         1104.06391818]\n",
      " [ 443.            0.            0.          523.05937051]]\n"
     ]
    }
   ],
   "source": [
    "aa0 = np.transpose(np.vstack((actIDsorted, np.transpose(knownF))))\n",
    "print(aa0)\n",
    "pd.DataFrame(aa0).to_csv(\"data/sec4.3Forces.csv\", header=None, index=None)"
   ]
  },
  {
   "cell_type": "code",
   "execution_count": 18,
   "metadata": {},
   "outputs": [],
   "source": [
    "t=np.arange(91)\n",
    "tp = np.pi*t/180\n",
    "fc1=(alpha*W+WU+Wfork)*np.cos(tp)-(2*alpha*W+WU)*np.sin(tp)\n",
    "fc2=(Wfork+3*alpha*W+2*WU)/np.sqrt(2)*np.sin(tp) + (Wfork - alpha*W)/np.sqrt(2)*np.cos(tp)\n",
    "fy, fz = fc2fyz(fc1, fc2)"
   ]
  },
  {
   "cell_type": "code",
   "execution_count": 136,
   "metadata": {},
   "outputs": [
    {
     "data": {
      "text/plain": [
       "Text(0, 0.5, 'force (Newton)')"
      ]
     },
     "execution_count": 136,
     "metadata": {},
     "output_type": "execute_result"
    },
    {
     "data": {
      "image/png": "[encoded data removed]",
      "text/plain": [
       "<Figure size 432x288 with 1 Axes>"
      ]
     },
     "metadata": {
      "needs_background": "light"
     },
     "output_type": "display_data"
    }
   ],
   "source": [
    "plt.plot(t, fc1, '-b', label='$F_{C1}$')\n",
    "plt.plot(t, fc2, '-r', label='$F_{C2}$')\n",
    "plt.plot(t, fy, '-.k', label='$F_y$')\n",
    "plt.plot(t, fz, '-.g', label='$F_z$')\n",
    "plt.legend(loc='lower left',  )\n",
    "plt.grid()\n",
    "plt.xlabel('zenith angle (degree)')\n",
    "plt.ylabel('force (Newton)')"
   ]
  },
  {
   "cell_type": "markdown",
   "metadata": {},
   "source": [
    "### Make this 3D matrix, for use as part of LUT.\n",
    "1st dimension: zenith angle, in 5 deg increment: 0, 5, 10, ..., 90 degrees\n",
    "2nd dimension: actuators, with ID numbers in ascending order\n",
    "3rd dimension: actuator ID, Fx, Fy, Fz"
   ]
  },
  {
   "cell_type": "code",
   "execution_count": 76,
   "metadata": {},
   "outputs": [],
   "source": [
    "aa = np.zeros(( int(90/5)+1, nActuator,4))\n",
    "t = np.linspace(0,90,int(90/5)+1)\n",
    "tp = np.pi*t/180\n",
    "fc1=(alpha*W+WU+Wfork)*np.cos(tp)-(2*alpha*W+WU)*np.sin(tp)\n",
    "fc2=(Wfork+3*alpha*W+2*WU)/np.sqrt(2)*np.sin(tp) + (Wfork - alpha*W)/np.sqrt(2)*np.cos(tp)\n",
    "fy, fz = fc2fyz(fc1, fc2)\n",
    "for i in range(len(t)): #for each zenith angle\n",
    "    aa[i,:,0] = actIDsorted\n",
    "    idx = (orientType == 'CROSSLATERAL') & (xact > 0)\n",
    "    #aa[i,idx,1] = -fy[i] #no, these are perpendicular to Gravity, they just go to zero gradually\n",
    "    aa[i,idx,1] = -fy[0]*np.cos(tp[i])\n",
    "    idx = (orientType == 'CROSSLATERAL') & (xact < 0)\n",
    "    #aa[i,idx,1] = fy[i] #no, these are perpendicular to Gravity, they just go to zero gradually\n",
    "    aa[i,idx,1] = fy[0] * np.cos(tp[i])\n",
    "    idx = orientType == '+Y LATERAL'\n",
    "    aa[i,idx,2] = fy[i]\n",
    "    idx = orientType == '-Y LATERAL'\n",
    "    aa[i,idx,2] = -fy[i]\n",
    "    idx = actType == 'DAA'\n",
    "    aa[i,idx,3] = fz[i]"
   ]
  },
  {
   "cell_type": "code",
   "execution_count": 77,
   "metadata": {},
   "outputs": [
    {
     "data": {
      "text/plain": [
       "array([[    0.        ,     0.        ,     0.        ,  -704.9228784 ],\n",
       "       [    0.        ,     0.        ,     0.        ,  -891.6764515 ],\n",
       "       [    0.        ,     0.        ,     0.        ,  -995.92238937],\n",
       "       [    0.        ,     0.        ,     0.        , -1241.97184935],\n",
       "       [    0.        ,     0.        ,     0.        , -1150.09192088],\n",
       "       [    0.        ,     0.        ,     0.        , -1397.20307368],\n",
       "       [    0.        ,     0.        ,     0.        ,  -737.31328136],\n",
       "       [    0.        ,     0.        ,     0.        ,  -868.78500197],\n",
       "       [    0.        ,     0.        ,     0.        ,  -934.98079135],\n",
       "       [    0.        ,     0.        ,     0.        , -1176.47320857],\n",
       "       [    0.        ,     0.        ,     0.        , -1244.01251878],\n",
       "       [    0.        ,     0.        ,     0.        , -1323.11574247],\n",
       "       [    0.        ,     0.        ,     0.        , -1409.30484794],\n",
       "       [    0.        ,     0.        ,     0.        ,  -816.19281828],\n",
       "       [    0.        ,     0.        ,     0.        ,  -952.20397967],\n",
       "       [    0.        ,     0.        ,     0.        , -1097.86082564],\n",
       "       [    0.        ,     0.        ,     0.        , -1150.43529794],\n",
       "       [    0.        ,     0.        ,     0.        , -1156.4797312 ],\n",
       "       [    0.        ,     0.        ,     0.        ,  -570.31616228],\n",
       "       [    0.        ,     0.        ,     0.        ,  -966.99153558],\n",
       "       [    0.        ,     0.        ,     0.        , -1011.3311464 ],\n",
       "       [    0.        ,     0.        ,     0.        , -1101.22624465],\n",
       "       [    0.        ,     0.        ,     0.        , -1238.78779408],\n",
       "       [    0.        ,     0.        ,     0.        , -1321.28406827],\n",
       "       [    0.        ,     0.        ,     0.        , -1027.89207212],\n",
       "       [    0.        ,     0.        ,     0.        , -1864.36087289],\n",
       "       [    0.        ,     0.        ,     0.        , -1002.34923533],\n",
       "       [    0.        ,     0.        ,     0.        , -1270.84938317],\n",
       "       [    0.        ,     0.        ,     0.        , -1262.52902358],\n",
       "       [    0.        ,     0.        ,     0.        , -1103.20098407],\n",
       "       [    0.        ,     0.        ,     0.        , -1101.304207  ],\n",
       "       [    0.        ,     0.        ,     0.        , -1246.74657337],\n",
       "       [    0.        ,     0.        ,     0.        , -1300.64323256],\n",
       "       [    0.        ,     0.        ,     0.        , -1070.25761863],\n",
       "       [    0.        ,     0.        ,     0.        , -1442.44739897],\n",
       "       [    0.        ,     0.        ,     0.        ,  -997.40001551],\n",
       "       [    0.        ,     0.        ,     0.        , -1229.35413655],\n",
       "       [    0.        ,     0.        ,     0.        , -1242.36240761],\n",
       "       [    0.        ,     0.        ,     0.        ,  -762.51221291],\n",
       "       [    0.        ,     0.        ,     0.        , -1256.90946926],\n",
       "       [    0.        ,     0.        ,     0.        , -1172.98812264],\n",
       "       [    0.        ,     0.        ,     0.        , -1102.78224751],\n",
       "       [    0.        ,     0.        ,     0.        ,  -524.10181782],\n",
       "       [    0.        ,     0.        ,     0.        ,  -735.91713692],\n",
       "       [    0.        ,     0.        ,     0.        ,  -869.09852778],\n",
       "       [    0.        ,     0.        ,     0.        ,  -934.16196528],\n",
       "       [    0.        ,     0.        ,     0.        , -1176.42048353],\n",
       "       [    0.        ,     0.        ,     0.        , -1243.30780746],\n",
       "       [    0.        ,     0.        ,     0.        , -1320.04112686],\n",
       "       [    0.        ,     0.        ,     0.        ,  -817.00920464],\n",
       "       [    0.        ,     0.        ,     0.        ,  -951.62498467],\n",
       "       [    0.        ,     0.        ,     0.        , -1096.93613134],\n",
       "       [    0.        ,     0.        ,     0.        , -1148.04238765],\n",
       "       [    0.        ,     0.        ,     0.        , -1154.54706137],\n",
       "       [    0.        ,     0.        ,     0.        ,  -569.61545936],\n",
       "       [    0.        ,     0.        ,     0.        ,  -967.04043261],\n",
       "       [    0.        ,     0.        ,     0.        , -1010.66531695],\n",
       "       [    0.        ,     0.        ,     0.        , -1103.25207083],\n",
       "       [    0.        ,     0.        ,     0.        , -1238.74546306],\n",
       "       [    0.        ,     0.        ,     0.        , -1321.24562481],\n",
       "       [    0.        ,     0.        ,     0.        , -1024.44691564],\n",
       "       [    0.        ,     0.        ,     0.        , -1004.74280348],\n",
       "       [    0.        ,     0.        ,     0.        , -1273.59742974],\n",
       "       [    0.        ,     0.        ,     0.        , -1264.60650396],\n",
       "       [    0.        ,     0.        ,     0.        , -1103.85937145],\n",
       "       [    0.        ,     0.        ,     0.        , -1100.75020352],\n",
       "       [    0.        ,     0.        ,     0.        , -1248.53196463],\n",
       "       [    0.        ,     0.        ,     0.        , -1302.55028853],\n",
       "       [    0.        ,     0.        ,     0.        , -1073.21418427],\n",
       "       [    0.        ,     0.        ,     0.        , -1449.23038069],\n",
       "       [    0.        ,     0.        ,     0.        , -1000.00425841],\n",
       "       [    0.        ,     0.        ,     0.        , -1229.94210344],\n",
       "       [    0.        ,     0.        ,     0.        , -1273.4377403 ],\n",
       "       [    0.        ,     0.        ,     0.        ,  -767.78431922],\n",
       "       [    0.        ,     0.        ,     0.        , -1264.60175157],\n",
       "       [    0.        ,     0.        ,     0.        , -1175.90804231],\n",
       "       [    0.        ,     0.        ,     0.        , -1109.37609164],\n",
       "       [    0.        ,     0.        ,     0.        ,  -527.87004555],\n",
       "       [    0.        ,     0.        ,     0.        ,  -703.11703355],\n",
       "       [    0.        ,     0.        ,     0.        ,  -891.95855122],\n",
       "       [    0.        ,     0.        ,     0.        ,  -994.75412287],\n",
       "       [    0.        ,     0.        ,     0.        , -1243.05292109],\n",
       "       [    0.        ,     0.        ,     0.        , -1149.13186228],\n",
       "       [    0.        ,     0.        ,     0.        , -1398.26305925],\n",
       "       [    0.        ,     0.        ,     0.        ,  -741.75686704],\n",
       "       [    0.        ,     0.        ,     0.        ,  -863.30840561],\n",
       "       [    0.        ,     0.        ,     0.        ,  -935.99144465],\n",
       "       [    0.        ,     0.        ,     0.        , -1176.73973698],\n",
       "       [    0.        ,     0.        ,     0.        , -1229.25906113],\n",
       "       [    0.        ,     0.        ,     0.        , -1323.3934476 ],\n",
       "       [    0.        ,     0.        ,     0.        , -1412.25827011],\n",
       "       [    0.        ,     0.        ,     0.        ,  -818.79252541],\n",
       "       [    0.        ,     0.        ,     0.        ,  -955.37252178],\n",
       "       [    0.        ,     0.        ,     0.        , -1096.60586813],\n",
       "       [    0.        ,     0.        ,     0.        , -1151.63963339],\n",
       "       [    0.        ,     0.        ,     0.        , -1163.13717826],\n",
       "       [    0.        ,     0.        ,     0.        ,  -568.7624079 ],\n",
       "       [    0.        ,     0.        ,     0.        ,  -967.99688503],\n",
       "       [    0.        ,     0.        ,     0.        , -1010.30636478],\n",
       "       [    0.        ,     0.        ,     0.        , -1103.15009112],\n",
       "       [    0.        ,     0.        ,     0.        , -1242.31268519],\n",
       "       [    0.        ,     0.        ,     0.        , -1313.36757487],\n",
       "       [    0.        ,     0.        ,     0.        , -1022.29993163],\n",
       "       [    0.        ,     0.        ,     0.        , -1863.96423236],\n",
       "       [    0.        ,     0.        ,     0.        , -1005.88995897],\n",
       "       [    0.        ,     0.        ,     0.        , -1268.8357219 ],\n",
       "       [    0.        ,     0.        ,     0.        , -1253.50265959],\n",
       "       [    0.        ,     0.        ,     0.        , -1106.15201613],\n",
       "       [    0.        ,     0.        ,     0.        , -1102.84837155],\n",
       "       [    0.        ,     0.        ,     0.        , -1243.92886392],\n",
       "       [    0.        ,     0.        ,     0.        , -1314.08546743],\n",
       "       [    0.        ,     0.        ,     0.        , -1058.42724611],\n",
       "       [    0.        ,     0.        ,     0.        , -1440.50668513],\n",
       "       [    0.        ,     0.        ,     0.        ,  -993.97322409],\n",
       "       [    0.        ,     0.        ,     0.        , -1230.23674036],\n",
       "       [    0.        ,     0.        ,     0.        , -1234.58340654],\n",
       "       [    0.        ,     0.        ,     0.        ,  -770.42602701],\n",
       "       [    0.        ,     0.        ,     0.        , -1251.5085707 ],\n",
       "       [    0.        ,     0.        ,     0.        , -1164.1801847 ],\n",
       "       [    0.        ,     0.        ,     0.        , -1098.51397555],\n",
       "       [    0.        ,     0.        ,     0.        ,  -520.2098079 ],\n",
       "       [    0.        ,     0.        ,     0.        ,  -742.74821728],\n",
       "       [    0.        ,     0.        ,     0.        ,  -862.41059356],\n",
       "       [    0.        ,     0.        ,     0.        ,  -937.12842085],\n",
       "       [    0.        ,     0.        ,     0.        , -1175.78771141],\n",
       "       [    0.        ,     0.        ,     0.        , -1229.10663936],\n",
       "       [    0.        ,     0.        ,     0.        , -1320.90958629],\n",
       "       [    0.        ,     0.        ,     0.        ,  -818.923843  ],\n",
       "       [    0.        ,     0.        ,     0.        ,  -957.13490075],\n",
       "       [    0.        ,     0.        ,     0.        , -1095.34970606],\n",
       "       [    0.        ,     0.        ,     0.        , -1151.68615324],\n",
       "       [    0.        ,     0.        ,     0.        , -1161.06300516],\n",
       "       [    0.        ,     0.        ,     0.        ,  -566.71750916],\n",
       "       [    0.        ,     0.        ,     0.        ,  -968.548801  ],\n",
       "       [    0.        ,     0.        ,     0.        , -1010.32137017],\n",
       "       [    0.        ,     0.        ,     0.        , -1103.3770474 ],\n",
       "       [    0.        ,     0.        ,     0.        , -1244.11276075],\n",
       "       [    0.        ,     0.        ,     0.        , -1312.17044326],\n",
       "       [    0.        ,     0.        ,     0.        , -1019.72821757],\n",
       "       [    0.        ,     0.        ,     0.        , -1004.94253631],\n",
       "       [    0.        ,     0.        ,     0.        , -1270.91847573],\n",
       "       [    0.        ,     0.        ,     0.        , -1255.96300667],\n",
       "       [    0.        ,     0.        ,     0.        , -1106.37634853],\n",
       "       [    0.        ,     0.        ,     0.        , -1101.86223323],\n",
       "       [    0.        ,     0.        ,     0.        , -1244.35337427],\n",
       "       [    0.        ,     0.        ,     0.        , -1317.03240758],\n",
       "       [    0.        ,     0.        ,     0.        , -1061.34124172],\n",
       "       [    0.        ,     0.        ,     0.        , -1445.97376903],\n",
       "       [    0.        ,     0.        ,     0.        ,  -996.30926502],\n",
       "       [    0.        ,     0.        ,     0.        , -1232.2761154 ],\n",
       "       [    0.        ,     0.        ,     0.        , -1238.45954315],\n",
       "       [    0.        ,     0.        ,     0.        ,  -774.67872281],\n",
       "       [    0.        ,     0.        ,     0.        , -1258.67733061],\n",
       "       [    0.        ,     0.        ,     0.        , -1166.03883712],\n",
       "       [    0.        ,     0.        ,     0.        , -1104.06391818],\n",
       "       [    0.        ,     0.        ,     0.        ,  -523.05937051]])"
      ]
     },
     "execution_count": 77,
     "metadata": {},
     "output_type": "execute_result"
    }
   ],
   "source": [
    "#check the 3D array against aa0 (for zenith only)\n",
    "aa[0,:,:] - aa0"
   ]
  },
  {
   "cell_type": "code",
   "execution_count": 78,
   "metadata": {},
   "outputs": [],
   "source": [
    "with open('data/fxfyfzDAAs.yaml', \"w\") as yamlFile:\n",
    "    yaml.safe_dump(aa.tolist(), stream=yamlFile, default_flow_style=None)"
   ]
  },
  {
   "cell_type": "code",
   "execution_count": 67,
   "metadata": {},
   "outputs": [],
   "source": [
    "#if we set fc2 to zero, the DAA will have to be tilted to stay in balance. What is that angle?\n",
    "# putting more weight on the top is just like increasing WU\n",
    "# Let's make WU a variable - WUV\n",
    "WUV = np.arange(2000)\n",
    "aa = alpha*W - Wfork\n",
    "bb = Wfork+3*alpha*W+2*(WU + WUV)\n",
    "theta = np.arctan(aa/bb)\n",
    "shiftmm = (139.52+178.68)*theta"
   ]
  },
  {
   "cell_type": "code",
   "execution_count": 68,
   "metadata": {},
   "outputs": [
    {
     "name": "stdout",
     "output_type": "stream",
     "text": [
      "For 1000N of force, the angle is 0.3 degree, the shift is 1.7 mm\n",
      "This is far from big enough to explain the missing mass, because [1 - cos(0.3 deg)] = 0.00001410\n",
      "As a reference: [1 - cos(10.0 deg)] = 0.01519225\n"
     ]
    },
    {
     "data": {
      "image/png": "[encoded data removed]",
      "text/plain": [
       "<Figure size 432x288 with 1 Axes>"
      ]
     },
     "metadata": {
      "needs_background": "light"
     },
     "output_type": "display_data"
    }
   ],
   "source": [
    "plt.semilogy(WUV, shiftmm)\n",
    "plt.grid()\n",
    "plt.xlabel('weight on top of DAA (Newton)')\n",
    "plt.ylabel('tilt angle of $F_{C1}$')\n",
    "print('For 1000N of force, the angle is %.1f degree, the shift is %.1f mm'%(theta[1001]/np.pi*180,shiftmm[1001]))\n",
    "print('This is far from big enough to explain the missing mass, because [1 - cos(%.1f deg)] = %.8f'%(theta[1001]/np.pi*180, 1-np.cos(theta[1001])))\n",
    "print('As a reference: [1 - cos(%.1f deg)] = %.8f'%(10, 1-np.cos(10/180*np.pi)))"
   ]
  }
 ],
 "metadata": {
  "kernelspec": {
   "display_name": "Python 3",
   "language": "python",
   "name": "python3"
  },
  "language_info": {
   "codemirror_mode": {
    "name": "ipython",
    "version": 3
   },
   "file_extension": ".py",
   "mimetype": "text/x-python",
   "name": "python",
   "nbconvert_exporter": "python",
   "pygments_lexer": "ipython3",
   "version": "3.7.4"
  }
 },
 "nbformat": 4,
 "nbformat_minor": 2
}
